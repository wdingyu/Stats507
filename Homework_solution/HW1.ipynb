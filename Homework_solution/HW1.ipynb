{
 "cells": [
  {
   "cell_type": "markdown",
   "metadata": {},
   "source": [
    "# Question 0 "
   ]
  },
  {
   "cell_type": "markdown",
   "metadata": {},
   "source": [
    "---\n",
    "This is *question 0* for [problem set 1](https://jbhender.github.io/Stats507/F21/ps1.html) of [Stats 507](https://jbhender.github.io/Stats507/F21/).\n",
    "\n",
    "> Question 0 is about Markdown.\n",
    "\n",
    "The next question is about the **Fibonnaci sequence**, $F_n=F_{n−2}+F_{n−1}$. In part **a** we will define a Python function `fib_rec()`.\n",
    "\n",
    "Below is a …\n",
    "\n",
    "### Level 3 Header\n",
    "Next, we can make a bulleted list:\n",
    "\n",
    "* Item 1\n",
    "    * detail 1\n",
    "    * detail 2\n",
    "* Item 2\n",
    "\n",
    "Finally, we can make an enumerated list:\n",
    "\n",
    "    a. Item 1\n",
    "    b. Item 2\n",
    "    c. Item 3\n",
    "    \n",
    "---"
   ]
  },
  {
   "cell_type": "markdown",
   "metadata": {},
   "source": [
    "```markdown\n",
    "---\n",
    "This is *question 0* for [problem set 1](https://jbhender.github.io/Stats507/F21/ps1.html) of [Stats 507](https://jbhender.github.io/Stats507/F21/).\n",
    "\n",
    "> Question 0 is about Markdown.\n",
    "\n",
    "The next question is about the **Fibonnaci sequence**, $F_n=F_{n−2}+F_{n−1}$. In part **a** we will define a Python function `fib_rec()`.\n",
    "\n",
    "Below is a …\n",
    "\n",
    "### Level 3 Header\n",
    "Next, we can make a bulleted list:\n",
    "\n",
    "* Item 1\n",
    "    * detail 1\n",
    "    * detail 2\n",
    "* Item 2\n",
    "\n",
    "Finally, we can make an enumerated list:\n",
    "\n",
    "    a. Item 1\n",
    "    b. Item 2\n",
    "    c. Item 3\n",
    "    \n",
    "---\n",
    "```"
   ]
  },
  {
   "cell_type": "code",
   "execution_count": 1,
   "metadata": {
    "scrolled": true
   },
   "outputs": [],
   "source": [
    "import Script\n",
    "import numpy as np\n",
    "from itables import show\n",
    "from IPython.core.display import display, HTML"
   ]
  },
  {
   "cell_type": "markdown",
   "metadata": {},
   "source": [
    "# 1. Question 1"
   ]
  },
  {
   "cell_type": "markdown",
   "metadata": {},
   "source": [
    "## Test the function(`fib_rec`, `fib_for`, `fib_whl`, `fib_rnd`, `fib_flr`)"
   ]
  },
  {
   "cell_type": "markdown",
   "metadata": {},
   "source": [
    "Use `test_rec()`, `test_for()`, `test_whl()`, `test_rnd()`, `test_flr()` to test if the function calculate the Fibonacci sequence correctly."
   ]
  },
  {
   "cell_type": "code",
   "execution_count": 2,
   "metadata": {},
   "outputs": [
    {
     "name": "stdout",
     "output_type": "stream",
     "text": [
      "F_7 = 13\n",
      "F_11 = 89\n",
      "F_13 = 233\n"
     ]
    }
   ],
   "source": [
    "f0 = 0; f1 = 1\n",
    "Script.test_rec(f0, f1)"
   ]
  },
  {
   "cell_type": "markdown",
   "metadata": {},
   "source": [
    "Get whatever nth Fibonacci sequence you want."
   ]
  },
  {
   "cell_type": "code",
   "execution_count": 3,
   "metadata": {},
   "outputs": [
    {
     "name": "stdout",
     "output_type": "stream",
     "text": [
      "The nth Fibonacci sequence you want13\n",
      "The first Fibonacci sequence you set0\n",
      "The second Fibonacci sequence you set1\n",
      "F_13 = 233\n"
     ]
    }
   ],
   "source": [
    "n = int(input(\"The nth Fibonacci sequence you want\"))\n",
    "f0 = int(input(\"The first Fibonacci sequence you set\"))           # Only need when do function fib_rec()\n",
    "f1 = int(input(\"The second Fibonacci sequence you set\"))          # Only need when do function fib_rec()\n",
    "print(\"F_{0:.0f} = {1:.0f}\".format(n, Script.fib_rec(n, f0, f1)))"
   ]
  },
  {
   "cell_type": "markdown",
   "metadata": {},
   "source": [
    "## Calculate the operating time of each function\n",
    "When I tried for the test parameter n, I found that the running time of the `fib_rec()` function is very long after $n\\geq40$. Therefore, to avoid the long running time of the test function, I choose $n = 5, 10, 15, 20, 25, 30, 35$, and each function corresponding to each n are tested 3 times to take the median running time as the final result. Finally, I present my results in a formatted table."
   ]
  },
  {
   "cell_type": "code",
   "execution_count": 4,
   "metadata": {
    "scrolled": false
   },
   "outputs": [
    {
     "data": {
      "text/html": [
       "<table border=\"1\" class=\"dataframe\">\n",
       "  <thead>\n",
       "    <tr style=\"text-align: right;\">\n",
       "      <th></th>\n",
       "      <th>recursive function</th>\n",
       "      <th>for loop</th>\n",
       "      <th>while loop</th>\n",
       "      <th>rounding method</th>\n",
       "      <th>truncation method</th>\n",
       "    </tr>\n",
       "  </thead>\n",
       "  <tbody>\n",
       "    <tr>\n",
       "      <th>n = 05</th>\n",
       "      <td>0.000003</td>\n",
       "      <td>9.000000e-07</td>\n",
       "      <td>7.000000e-07</td>\n",
       "      <td>0.000001</td>\n",
       "      <td>0.000001</td>\n",
       "    </tr>\n",
       "    <tr>\n",
       "      <th>n = 10</th>\n",
       "      <td>0.000023</td>\n",
       "      <td>1.000000e-06</td>\n",
       "      <td>1.000000e-06</td>\n",
       "      <td>0.000001</td>\n",
       "      <td>0.000001</td>\n",
       "    </tr>\n",
       "    <tr>\n",
       "      <th>n = 15</th>\n",
       "      <td>0.000277</td>\n",
       "      <td>1.400000e-06</td>\n",
       "      <td>1.400000e-06</td>\n",
       "      <td>0.000002</td>\n",
       "      <td>0.000001</td>\n",
       "    </tr>\n",
       "    <tr>\n",
       "      <th>n = 20</th>\n",
       "      <td>0.003278</td>\n",
       "      <td>4.300000e-06</td>\n",
       "      <td>2.400000e-06</td>\n",
       "      <td>0.000008</td>\n",
       "      <td>0.000002</td>\n",
       "    </tr>\n",
       "    <tr>\n",
       "      <th>n = 25</th>\n",
       "      <td>0.032667</td>\n",
       "      <td>6.000000e-06</td>\n",
       "      <td>3.100000e-06</td>\n",
       "      <td>0.000012</td>\n",
       "      <td>0.000002</td>\n",
       "    </tr>\n",
       "    <tr>\n",
       "      <th>n = 30</th>\n",
       "      <td>0.375314</td>\n",
       "      <td>6.500000e-06</td>\n",
       "      <td>3.100000e-06</td>\n",
       "      <td>0.000012</td>\n",
       "      <td>0.000002</td>\n",
       "    </tr>\n",
       "    <tr>\n",
       "      <th>n = 35</th>\n",
       "      <td>4.282048</td>\n",
       "      <td>6.800000e-06</td>\n",
       "      <td>3.600000e-06</td>\n",
       "      <td>0.000013</td>\n",
       "      <td>0.000002</td>\n",
       "    </tr>\n",
       "  </tbody>\n",
       "</table>"
      ],
      "text/plain": [
       "<IPython.core.display.HTML object>"
      ]
     },
     "metadata": {},
     "output_type": "display_data"
    }
   ],
   "source": [
    "result = Script.show_time()\n",
    "display(HTML(result.to_html(index=True)))"
   ]
  },
  {
   "cell_type": "markdown",
   "metadata": {},
   "source": [
    "Also, I can show the result by using module itables."
   ]
  },
  {
   "cell_type": "code",
   "execution_count": 5,
   "metadata": {},
   "outputs": [
    {
     "data": {
      "application/javascript": [
       "require.config({\n",
       "    paths: {\n",
       "        datatables: 'https://cdn.datatables.net/1.10.19/js/jquery.dataTables.min',\n",
       "    }\n",
       "});\n",
       "\n",
       "$('head').append('<link rel=\"stylesheet\" type=\"text/css\" \\\n",
       "                href = \"https://cdn.datatables.net/1.10.19/css/jquery.dataTables.min.css\" > ');\n",
       "\n",
       "$('head').append('<style> table td { text-overflow: ellipsis; overflow: hidden; } </style>');\n",
       "\n",
       "$('head').append(`<script>\n",
       "function eval_functions(map_or_text) {\n",
       "    if (typeof map_or_text === \"string\") {\n",
       "        if (map_or_text.startsWith(\"function\")) {\n",
       "            try {\n",
       "                // Note: parenthesis are required around the whole expression for eval to return a value!\n",
       "                // See https://stackoverflow.com/a/7399078/911298.\n",
       "                //\n",
       "                // eval(\"local_fun = \" + map_or_text) would fail because local_fun is not declared\n",
       "                // (using var, let or const would work, but it would only be declared in the local scope\n",
       "                // and therefore the value could not be retrieved).\n",
       "                const func = eval(\"(\" + map_or_text + \")\");\n",
       "                if (typeof func !== \"function\") {\n",
       "                    // Note: backquotes are super convenient!\n",
       "                    // https://developer.mozilla.org/en-US/docs/Web/JavaScript/Reference/Template_literals\n",
       "                    console.error(\"Evaluated expression \" + map_or_text + \" is not a function (type is \" + typeof func + \")\");\n",
       "                    return map_or_text;\n",
       "                }\n",
       "                // Return the function\n",
       "                return func;\n",
       "            } catch (e) {\n",
       "                // Make sure to print the error with a second argument to console.error().\n",
       "                console.error(\"itables was not able to parse \" + map_or_text, e);\n",
       "            }\n",
       "        }\n",
       "    } else if (typeof map_or_text === \"object\") {\n",
       "        if (map_or_text instanceof Array) {\n",
       "            // Note: \"var\" is now superseded by \"let\" and \"const\".\n",
       "            // https://medium.com/javascript-scene/javascript-es6-var-let-or-const-ba58b8dcde75\n",
       "            const result = [];\n",
       "            // Note: \"for of\" is the best way to iterate through an iterable.\n",
       "            // https://developer.mozilla.org/en-US/docs/Web/JavaScript/Reference/Statements/for...of\n",
       "            for (const item of map_or_text) {\n",
       "                result.push(eval_functions(item));\n",
       "            }\n",
       "            return result;\n",
       "\n",
       "            // Alternatively, more functional approach in one line:\n",
       "            // return map_or_text.map(eval_functions);\n",
       "        } else {\n",
       "            const result = {};\n",
       "            // Object.keys() is safer than \"for in\" because otherwise you might have keys\n",
       "            // that aren't defined in the object itself.\n",
       "            //\n",
       "            // See https://stackoverflow.com/a/684692/911298.\n",
       "            for (const item of Object.keys(map_or_text)) {\n",
       "                result[item] = eval_functions(map_or_text[item]);\n",
       "            }\n",
       "            return result;\n",
       "        }\n",
       "    }\n",
       "\n",
       "    return map_or_text;\n",
       "}\n",
       "\n",
       "</` + 'script>');"
      ],
      "text/plain": [
       "<IPython.core.display.Javascript object>"
      ]
     },
     "metadata": {},
     "output_type": "display_data"
    },
    {
     "data": {
      "text/html": [
       "<div><table id=\"5db60b1b-47fc-47ec-b172-166c3d84ce37\" class=\"display\"><thead>\n",
       "    <tr style=\"text-align: right;\">\n",
       "      <th></th>\n",
       "      <th>recursive function</th>\n",
       "      <th>for loop</th>\n",
       "      <th>while loop</th>\n",
       "      <th>rounding method</th>\n",
       "      <th>truncation method</th>\n",
       "    </tr>\n",
       "  </thead></table>\n",
       "<script type=\"text/javascript\">\n",
       "require([\"datatables\"], function (datatables) {\n",
       "    $(document).ready(function () {\n",
       "        var dt_args = {\"columnDefs\": [{\"width\": \"70px\", \"targets\": \"_all\"}], \"paging\": false, \"data\": [[\"n = 05\", 3e-06, 9e-07, 7e-07, 1e-06, 1e-06], [\"n = 10\", 2.3e-05, 1e-06, 1e-06, 1e-06, 1e-06], [\"n = 15\", 0.000277, 1.4e-06, 1.4e-06, 2e-06, 1e-06], [\"n = 20\", 0.003278, 4.3e-06, 2.4e-06, 8e-06, 2e-06], [\"n = 25\", 0.032667, 6e-06, 3.1e-06, 1.2e-05, 2e-06], [\"n = 30\", 0.375314, 6.5e-06, 3.1e-06, 1.2e-05, 2e-06], [\"n = 35\", 4.282048, 6.8e-06, 3.6e-06, 1.3e-05, 2e-06]]};\n",
       "        dt_args = eval_functions(dt_args);\n",
       "        table = $('#5db60b1b-47fc-47ec-b172-166c3d84ce37').DataTable(dt_args);\n",
       "    });\n",
       "})\n",
       "</script>\n",
       "</div>\n"
      ],
      "text/plain": [
       "<IPython.core.display.HTML object>"
      ]
     },
     "metadata": {},
     "output_type": "display_data"
    }
   ],
   "source": [
    "show(result)"
   ]
  },
  {
   "cell_type": "markdown",
   "metadata": {},
   "source": [
    "According to the table above, `fib_rec()` takes much more time to operate than other functions, this is because such algorithm is a recursive algorithm and the time complexity of recursive algorithms is exponential. So when n increase, the running time of recursive algorithm will increase exponentially. Compare the rest four functions, when $n=5$, there is ittle difference in running time. Besides, An algorithm that runs at different n does not vary much in time, that is because the change of n is tiny to these four functions. And I found `fib_rnd()` seems to run a little bit longer than other three functions when n increase. It seems to me that the `fib_whl()` and `fib_flr()` performs a little better in terms of runtime."
   ]
  },
  {
   "cell_type": "markdown",
   "metadata": {},
   "source": [
    "# 2. Question 2"
   ]
  },
  {
   "cell_type": "markdown",
   "metadata": {},
   "source": [
    "## Applying the recurrence relation to compute a specified row of Pascal’s triangle"
   ]
  },
  {
   "cell_type": "code",
   "execution_count": 7,
   "metadata": {
    "scrolled": true
   },
   "outputs": [
    {
     "name": "stdout",
     "output_type": "stream",
     "text": [
      "The nth row of Pascal's triangle you want10\n",
      "The 10th row is \n",
      " 1 10 45 120 210 252 210 120 45 10 1\n"
     ]
    }
   ],
   "source": [
    "n = int(input(\"The nth row of Pascal's triangle you want\"))\n",
    "print(\"The {0:.0f}th row is \\n {1:}\".format(n, Script.Pascal(n)))"
   ]
  },
  {
   "cell_type": "markdown",
   "metadata": {},
   "source": [
    "## Printing the first n rows of Pascal’s triangle"
   ]
  },
  {
   "cell_type": "markdown",
   "metadata": {},
   "source": [
    "Output the first 11 rows of Pascal's triangle."
   ]
  },
  {
   "cell_type": "code",
   "execution_count": 8,
   "metadata": {},
   "outputs": [
    {
     "name": "stdout",
     "output_type": "stream",
     "text": [
      "                                                                1                                                                 \n",
      "                                                           1         1                                                            \n",
      "                                                      1         2         1                                                       \n",
      "                                                 1         3         3         1                                                  \n",
      "                                            1         4         6         4         1                                             \n",
      "                                      1         5         10         10         5         1                                       \n",
      "                                 1         6         15         20         15         6         1                                 \n",
      "                           1         7         21         35         35         21         7         1                            \n",
      "                      1         8         28         56         70         56         28         8         1                      \n",
      "               1         9         36         84         126         126         84         36         9         1                \n",
      "       1         10         45         120         210         252         210         120         45         10         1        \n"
     ]
    }
   ],
   "source": [
    "Script.print_Pascal(10)"
   ]
  },
  {
   "cell_type": "markdown",
   "metadata": {},
   "source": [
    "# 3. Question 3"
   ]
  },
  {
   "cell_type": "markdown",
   "metadata": {},
   "source": [
    "## Standard point and interval estimate for mean based on Normal theory"
   ]
  },
  {
   "cell_type": "markdown",
   "metadata": {},
   "source": [
    "Randomly generate data sets that conform to a normal distribution."
   ]
  },
  {
   "cell_type": "code",
   "execution_count": 9,
   "metadata": {},
   "outputs": [],
   "source": [
    "data = np.random.normal(2, 10, 1000)"
   ]
  },
  {
   "cell_type": "markdown",
   "metadata": {},
   "source": [
    "Input data and confidence level to compute point estimate and interval estimate. \n",
    "\n",
    "There are two output format. If I don't set the string_set parameter, the function will return a string contains all the required estimate."
   ]
  },
  {
   "cell_type": "code",
   "execution_count": 10,
   "metadata": {},
   "outputs": [
    {
     "data": {
      "text/plain": [
       "'2.0549[95%CI:(1.4416, 2.6682)]'"
      ]
     },
     "execution_count": 10,
     "metadata": {},
     "output_type": "execute_result"
    }
   ],
   "source": [
    "Script.estiamte(data, 95)"
   ]
  },
  {
   "cell_type": "markdown",
   "metadata": {},
   "source": [
    "If I set the string_set parameter to None, the function will return a dictionary contains all the required estimate."
   ]
  },
  {
   "cell_type": "code",
   "execution_count": 11,
   "metadata": {},
   "outputs": [
    {
     "data": {
      "text/plain": [
       "{'est': 2.0549331670149638,\n",
       " 'lwr': 1.4416476679211827,\n",
       " 'upr': 2.6682186661087446,\n",
       " 'level': 95}"
      ]
     },
     "execution_count": 11,
     "metadata": {},
     "output_type": "execute_result"
    }
   ],
   "source": [
    "Script.estiamte(data, 95, string_set = None) "
   ]
  },
  {
   "cell_type": "markdown",
   "metadata": {},
   "source": [
    "If the input data is not a 1d Numpy array, the function will raises an informative exception."
   ]
  },
  {
   "cell_type": "code",
   "execution_count": 12,
   "metadata": {},
   "outputs": [
    {
     "ename": "Exception",
     "evalue": "Invalid data format",
     "output_type": "error",
     "traceback": [
      "\u001b[1;31m---------------------------------------------------------------------------\u001b[0m",
      "\u001b[1;31mException\u001b[0m                                 Traceback (most recent call last)",
      "\u001b[1;32m<ipython-input-12-ab0ab7209f37>\u001b[0m in \u001b[0;36m<module>\u001b[1;34m\u001b[0m\n\u001b[0;32m      1\u001b[0m \u001b[0mdata\u001b[0m \u001b[1;33m=\u001b[0m \u001b[1;33m[\u001b[0m\u001b[1;36m1\u001b[0m\u001b[1;33m,\u001b[0m \u001b[1;36m2\u001b[0m\u001b[1;33m]\u001b[0m\u001b[1;33m\u001b[0m\u001b[1;33m\u001b[0m\u001b[0m\n\u001b[1;32m----> 2\u001b[1;33m \u001b[0mScript\u001b[0m\u001b[1;33m.\u001b[0m\u001b[0mestiamte\u001b[0m\u001b[1;33m(\u001b[0m\u001b[0mdata\u001b[0m\u001b[1;33m,\u001b[0m \u001b[1;36m95\u001b[0m\u001b[1;33m)\u001b[0m\u001b[1;33m\u001b[0m\u001b[1;33m\u001b[0m\u001b[0m\n\u001b[0m",
      "\u001b[1;32m~\\Desktop\\Script.py\u001b[0m in \u001b[0;36mestiamte\u001b[1;34m(data, conf_level, string_set)\u001b[0m\n\u001b[0;32m    396\u001b[0m \u001b[1;33m\u001b[0m\u001b[0m\n\u001b[0;32m    397\u001b[0m     \u001b[1;32mif\u001b[0m \u001b[0mtype\u001b[0m\u001b[1;33m(\u001b[0m\u001b[0mdata\u001b[0m\u001b[1;33m)\u001b[0m \u001b[1;33m!=\u001b[0m \u001b[0mnp\u001b[0m\u001b[1;33m.\u001b[0m\u001b[0mndarray\u001b[0m\u001b[1;33m:\u001b[0m\u001b[1;33m\u001b[0m\u001b[1;33m\u001b[0m\u001b[0m\n\u001b[1;32m--> 398\u001b[1;33m         \u001b[1;32mraise\u001b[0m \u001b[0mException\u001b[0m\u001b[1;33m(\u001b[0m\u001b[1;34m\"Invalid data format\"\u001b[0m\u001b[1;33m)\u001b[0m\u001b[1;33m\u001b[0m\u001b[1;33m\u001b[0m\u001b[0m\n\u001b[0m\u001b[0;32m    399\u001b[0m \u001b[1;33m\u001b[0m\u001b[0m\n\u001b[0;32m    400\u001b[0m     \u001b[0mmean_hat\u001b[0m \u001b[1;33m=\u001b[0m \u001b[0mnp\u001b[0m\u001b[1;33m.\u001b[0m\u001b[0mmean\u001b[0m\u001b[1;33m(\u001b[0m\u001b[0mdata\u001b[0m\u001b[1;33m)\u001b[0m\u001b[1;33m\u001b[0m\u001b[1;33m\u001b[0m\u001b[0m\n",
      "\u001b[1;31mException\u001b[0m: Invalid data format"
     ]
    }
   ],
   "source": [
    "data = [1, 2]\n",
    "Script.estiamte(data, 95)"
   ]
  },
  {
   "cell_type": "markdown",
   "metadata": {},
   "source": [
    "##  Computing a confidence interval arising from a Binomial experiment"
   ]
  },
  {
   "cell_type": "markdown",
   "metadata": {},
   "source": [
    "Randomly generate data sets that conform to a binomial distribution"
   ]
  },
  {
   "cell_type": "code",
   "execution_count": 6,
   "metadata": {},
   "outputs": [],
   "source": [
    "data = np.random.binomial(1, 0.3, 500)"
   ]
  },
  {
   "cell_type": "markdown",
   "metadata": {},
   "source": [
    "Input data, confidence level and method (\"Binomial\", \"Clopper-Pearson\", \"Jeffrey\", \"Agresti-Coull\") to compute point estimate and interval estimate. \n",
    "\n",
    "There are two output format. If I don't set the string_set parameter, the function will return a string contains all the required estimate."
   ]
  },
  {
   "cell_type": "code",
   "execution_count": 7,
   "metadata": {},
   "outputs": [
    {
     "data": {
      "text/plain": [
       "'0.3020[95%CI:(0.2620,0.3443)]'"
      ]
     },
     "execution_count": 7,
     "metadata": {},
     "output_type": "execute_result"
    }
   ],
   "source": [
    "Script.Binomial_est(data, 95, \"Clopper-Pearson\")"
   ]
  },
  {
   "cell_type": "code",
   "execution_count": 4,
   "metadata": {},
   "outputs": [
    {
     "data": {
      "text/plain": [
       "'0.2860[95%CI:(0.2465,0.3255)]'"
      ]
     },
     "execution_count": 4,
     "metadata": {},
     "output_type": "execute_result"
    }
   ],
   "source": [
    "Script.Binomial_est(data, 95, \"Agresti-Coull\")"
   ]
  },
  {
   "cell_type": "markdown",
   "metadata": {},
   "source": [
    "If I set the string_set parameter to None, the function will return a dictionary contains all the required estimate."
   ]
  },
  {
   "cell_type": "code",
   "execution_count": 5,
   "metadata": {},
   "outputs": [
    {
     "data": {
      "text/plain": [
       "{'est': 0.286,\n",
       " 'lwr': 0.2467568627237572,\n",
       " 'upr': 0.3277950421434871,\n",
       " 'level': 95}"
      ]
     },
     "execution_count": 5,
     "metadata": {},
     "output_type": "execute_result"
    }
   ],
   "source": [
    "Script.Binomial_est(data, 95, \"Clopper-Pearson\", string_set=None)"
   ]
  },
  {
   "cell_type": "markdown",
   "metadata": {},
   "source": [
    "If the input data is not a 1d Numpy array, the function will raises an informative exception."
   ]
  },
  {
   "cell_type": "code",
   "execution_count": 17,
   "metadata": {
    "scrolled": true
   },
   "outputs": [
    {
     "ename": "Exception",
     "evalue": "Invalid data format",
     "output_type": "error",
     "traceback": [
      "\u001b[1;31m---------------------------------------------------------------------------\u001b[0m",
      "\u001b[1;31mException\u001b[0m                                 Traceback (most recent call last)",
      "\u001b[1;32m<ipython-input-17-5e6c38365dc1>\u001b[0m in \u001b[0;36m<module>\u001b[1;34m\u001b[0m\n\u001b[0;32m      1\u001b[0m \u001b[0mdata\u001b[0m \u001b[1;33m=\u001b[0m \u001b[1;33m[\u001b[0m\u001b[1;36m52\u001b[0m\u001b[1;33m]\u001b[0m\u001b[1;33m\u001b[0m\u001b[1;33m\u001b[0m\u001b[0m\n\u001b[1;32m----> 2\u001b[1;33m \u001b[0mScript\u001b[0m\u001b[1;33m.\u001b[0m\u001b[0mBinomial_est\u001b[0m\u001b[1;33m(\u001b[0m\u001b[0mdata\u001b[0m\u001b[1;33m,\u001b[0m \u001b[1;36m95\u001b[0m\u001b[1;33m,\u001b[0m \u001b[1;34m\"Clopper-Pearson\"\u001b[0m\u001b[1;33m)\u001b[0m\u001b[1;33m\u001b[0m\u001b[1;33m\u001b[0m\u001b[0m\n\u001b[0m",
      "\u001b[1;32m~\\Desktop\\Script.py\u001b[0m in \u001b[0;36mBinomial_est\u001b[1;34m(data, conf_level, method, string_set)\u001b[0m\n\u001b[0;32m    449\u001b[0m     '''\n\u001b[0;32m    450\u001b[0m     \u001b[1;32mif\u001b[0m \u001b[0mtype\u001b[0m\u001b[1;33m(\u001b[0m\u001b[0mdata\u001b[0m\u001b[1;33m)\u001b[0m \u001b[1;33m!=\u001b[0m \u001b[0mnp\u001b[0m\u001b[1;33m.\u001b[0m\u001b[0mndarray\u001b[0m\u001b[1;33m:\u001b[0m\u001b[1;33m\u001b[0m\u001b[1;33m\u001b[0m\u001b[0m\n\u001b[1;32m--> 451\u001b[1;33m         \u001b[1;32mraise\u001b[0m \u001b[0mException\u001b[0m\u001b[1;33m(\u001b[0m\u001b[1;34m\"Invalid data format\"\u001b[0m\u001b[1;33m)\u001b[0m\u001b[1;33m\u001b[0m\u001b[1;33m\u001b[0m\u001b[0m\n\u001b[0m\u001b[0;32m    452\u001b[0m \u001b[1;33m\u001b[0m\u001b[0m\n\u001b[0;32m    453\u001b[0m     \u001b[0mn\u001b[0m \u001b[1;33m=\u001b[0m \u001b[0mlen\u001b[0m\u001b[1;33m(\u001b[0m\u001b[0mdata\u001b[0m\u001b[1;33m)\u001b[0m\u001b[1;33m\u001b[0m\u001b[1;33m\u001b[0m\u001b[0m\n",
      "\u001b[1;31mException\u001b[0m: Invalid data format"
     ]
    }
   ],
   "source": [
    "data = [52]\n",
    "Script.Binomial_est(data, 95, \"Clopper-Pearson\")"
   ]
  },
  {
   "cell_type": "markdown",
   "metadata": {},
   "source": [
    "If we use Binomial method and the condition $n\\hat{p}∧n(1−\\hat{p})>12$ not match, the function will also raises an informative warning."
   ]
  },
  {
   "cell_type": "code",
   "execution_count": 4,
   "metadata": {},
   "outputs": [
    {
     "data": {
      "text/plain": [
       "'0.3333[95%CI:(-0.0439,0.7105)]'"
      ]
     },
     "execution_count": 4,
     "metadata": {},
     "output_type": "execute_result"
    }
   ],
   "source": [
    "data = np.array([0, 1, 0, 0, 1, 0, 1])\n",
    "Script.Binomial_est(data, 95, \"Binomial\")"
   ]
  },
  {
   "cell_type": "markdown",
   "metadata": {},
   "source": [
    "## Construct a table comparing 90, 95, and 99% confidence intervals and its corresponding width using each of the methods"
   ]
  },
  {
   "cell_type": "markdown",
   "metadata": {},
   "source": [
    "Create a 1d Numpy array with 42 ones and 48 zeros."
   ]
  },
  {
   "cell_type": "code",
   "execution_count": 19,
   "metadata": {},
   "outputs": [],
   "source": [
    "data = np.zeros(shape = (100))\n",
    "for i in range(42):\n",
    "    data[i] = 1"
   ]
  },
  {
   "cell_type": "markdown",
   "metadata": {},
   "source": [
    "Set confidence intervals equal to 90, 95 and 99, compute the confidence intervals and its corresponding width using each of the methods. As for the confidence intervals, I keep the numbers to four decimal places to compare the difference of each methods."
   ]
  },
  {
   "cell_type": "code",
   "execution_count": 20,
   "metadata": {
    "scrolled": true
   },
   "outputs": [
    {
     "data": {
      "text/html": [
       "<table border=\"1\" class=\"dataframe\">\n",
       "  <thead>\n",
       "    <tr style=\"text-align: right;\">\n",
       "      <th></th>\n",
       "      <th>90% confidence intervals</th>\n",
       "      <th>95% confidence intervals</th>\n",
       "      <th>99% confidence intervals</th>\n",
       "    </tr>\n",
       "  </thead>\n",
       "  <tbody>\n",
       "    <tr>\n",
       "      <th>Tradition Binomial Method</th>\n",
       "      <td>(0.3388, 0.5012)</td>\n",
       "      <td>(0.3233, 0.5167)</td>\n",
       "      <td>(0.2929, 0.5471)</td>\n",
       "    </tr>\n",
       "    <tr>\n",
       "      <th>Clopper-Pearson Method</th>\n",
       "      <td>(0.3365, 0.5072)</td>\n",
       "      <td>(0.3220, 0.5229)</td>\n",
       "      <td>(0.2944, 0.5535)</td>\n",
       "    </tr>\n",
       "    <tr>\n",
       "      <th>Jeffrey Method</th>\n",
       "      <td>(0.3412, 0.5021)</td>\n",
       "      <td>(0.3267, 0.5179)</td>\n",
       "      <td>(0.2989, 0.5485)</td>\n",
       "    </tr>\n",
       "    <tr>\n",
       "      <th>Agresti-Coull Method</th>\n",
       "      <td>(0.3398, 0.5002)</td>\n",
       "      <td>(0.3250, 0.5150)</td>\n",
       "      <td>(0.2967, 0.5433)</td>\n",
       "    </tr>\n",
       "    <tr>\n",
       "      <th>Normal theory</th>\n",
       "      <td>(0.3388, 0.5012)</td>\n",
       "      <td>(0.3233, 0.5167)</td>\n",
       "      <td>(0.2929, 0.5471)</td>\n",
       "    </tr>\n",
       "  </tbody>\n",
       "</table>"
      ],
      "text/plain": [
       "<IPython.core.display.HTML object>"
      ]
     },
     "metadata": {},
     "output_type": "display_data"
    },
    {
     "data": {
      "text/html": [
       "<table border=\"1\" class=\"dataframe\">\n",
       "  <thead>\n",
       "    <tr style=\"text-align: right;\">\n",
       "      <th></th>\n",
       "      <th>90% confidence intervals</th>\n",
       "      <th>95% confidence intervals</th>\n",
       "      <th>99% confidence intervals</th>\n",
       "    </tr>\n",
       "  </thead>\n",
       "  <tbody>\n",
       "    <tr>\n",
       "      <th>Tradition Binomial Method</th>\n",
       "      <td>0.162366</td>\n",
       "      <td>0.193471</td>\n",
       "      <td>0.254264</td>\n",
       "    </tr>\n",
       "    <tr>\n",
       "      <th>Clopper-Pearson Method</th>\n",
       "      <td>0.170679</td>\n",
       "      <td>0.200895</td>\n",
       "      <td>0.259084</td>\n",
       "    </tr>\n",
       "    <tr>\n",
       "      <th>Jeffrey Method</th>\n",
       "      <td>0.160898</td>\n",
       "      <td>0.191190</td>\n",
       "      <td>0.249560</td>\n",
       "    </tr>\n",
       "    <tr>\n",
       "      <th>Agresti-Coull Method</th>\n",
       "      <td>0.160323</td>\n",
       "      <td>0.190040</td>\n",
       "      <td>0.246617</td>\n",
       "    </tr>\n",
       "    <tr>\n",
       "      <th>Normal theory</th>\n",
       "      <td>0.162366</td>\n",
       "      <td>0.193471</td>\n",
       "      <td>0.254264</td>\n",
       "    </tr>\n",
       "  </tbody>\n",
       "</table>"
      ],
      "text/plain": [
       "<IPython.core.display.HTML object>"
      ]
     },
     "metadata": {},
     "output_type": "display_data"
    }
   ],
   "source": [
    "confidence_interval = [90, 95, 99]\n",
    "result_1 = Script.show_interval(data, confidence_interval)\n",
    "result_2 = Script.show_width(data, confidence_interval)\n",
    "display(HTML(result_1.to_html(index=True)))\n",
    "display(HTML(result_2.to_html(index=True)))"
   ]
  },
  {
   "cell_type": "markdown",
   "metadata": {},
   "source": [
    "I can slao show the result by using itables module as follow. "
   ]
  },
  {
   "cell_type": "code",
   "execution_count": 21,
   "metadata": {},
   "outputs": [
    {
     "data": {
      "text/html": [
       "<div><table id=\"d8b55f55-70df-4e91-8d92-6f82098f9e54\" class=\"display\"><thead>\n",
       "    <tr style=\"text-align: right;\">\n",
       "      <th></th>\n",
       "      <th>90% confidence intervals</th>\n",
       "      <th>95% confidence intervals</th>\n",
       "      <th>99% confidence intervals</th>\n",
       "    </tr>\n",
       "  </thead></table>\n",
       "<script type=\"text/javascript\">\n",
       "require([\"datatables\"], function (datatables) {\n",
       "    $(document).ready(function () {\n",
       "        var dt_args = {\"columnDefs\": [{\"width\": \"70px\", \"targets\": \"_all\"}], \"paging\": false, \"data\": [[\"Tradition Binomial Method\", \"('0.3388', '0.5012')\", \"('0.3233', '0.5167')\", \"('0.2929', '0.5471')\"], [\"Clopper-Pearson Method\", \"('0.3365', '0.5072')\", \"('0.3220', '0.5229')\", \"('0.2944', '0.5535')\"], [\"Jeffrey Method\", \"('0.3412', '0.5021')\", \"('0.3267', '0.5179')\", \"('0.2989', '0.5485')\"], [\"Agresti-Coull Method\", \"('0.3398', '0.5002')\", \"('0.3250', '0.5150')\", \"('0.2967', '0.5433')\"], [\"Normal theory\", \"('0.3388', '0.5012')\", \"('0.3233', '0.5167')\", \"('0.2929', '0.5471')\"]]};\n",
       "        dt_args = eval_functions(dt_args);\n",
       "        table = $('#d8b55f55-70df-4e91-8d92-6f82098f9e54').DataTable(dt_args);\n",
       "    });\n",
       "})\n",
       "</script>\n",
       "</div>\n"
      ],
      "text/plain": [
       "<IPython.core.display.HTML object>"
      ]
     },
     "metadata": {},
     "output_type": "display_data"
    },
    {
     "data": {
      "text/html": [
       "<div><table id=\"af63ad87-bd47-44ac-ab38-bb254d3c560f\" class=\"display\"><thead>\n",
       "    <tr style=\"text-align: right;\">\n",
       "      <th></th>\n",
       "      <th>90% confidence intervals</th>\n",
       "      <th>95% confidence intervals</th>\n",
       "      <th>99% confidence intervals</th>\n",
       "    </tr>\n",
       "  </thead></table>\n",
       "<script type=\"text/javascript\">\n",
       "require([\"datatables\"], function (datatables) {\n",
       "    $(document).ready(function () {\n",
       "        var dt_args = {\"columnDefs\": [{\"width\": \"70px\", \"targets\": \"_all\"}], \"paging\": false, \"data\": [[\"Tradition Binomial Method\", 0.162366, 0.193471, 0.254264], [\"Clopper-Pearson Method\", 0.170679, 0.200895, 0.259084], [\"Jeffrey Method\", 0.160898, 0.19119, 0.24956], [\"Agresti-Coull Method\", 0.160323, 0.19004, 0.246617], [\"Normal theory\", 0.162366, 0.193471, 0.254264]]};\n",
       "        dt_args = eval_functions(dt_args);\n",
       "        table = $('#af63ad87-bd47-44ac-ab38-bb254d3c560f').DataTable(dt_args);\n",
       "    });\n",
       "})\n",
       "</script>\n",
       "</div>\n"
      ],
      "text/plain": [
       "<IPython.core.display.HTML object>"
      ]
     },
     "metadata": {},
     "output_type": "display_data"
    }
   ],
   "source": [
    "show(result_1)\n",
    "show(result_2)"
   ]
  },
  {
   "cell_type": "markdown",
   "metadata": {},
   "source": [
    "According to the result, Agresti-Coull Method preforms best among five methods in three confidence level followed by Jeffrey Method, Tradition Binomial Method and Clopper-Pearson Method as its confidence width is the smallest, and a small confidence width means that the method can make a more accurate estimate. Estimation according to Normal Theory $\\bar{x}±z×se(x)$ and traditional Binomial method $\\hat{p}±z×\\sqrt{\\frac{\\hat{p}(1−\\hat{p})}{n}}$ actually have the same result of confidence interval. This is because in a data set with values 0 and 1, mean data represent the probability of success in an experiment, and according to the Central Limit Theorem, binomial distribution approximates the normal distribution when the sample size is large, this is where the condition $n\\hat{p}∧n(1−\\hat{p})>12$ is used. As a result, Tradition Binomial equals to the Estimation according to Normal Theory method when condition satisfied, and the confidence intervals will be the same. Finally, we can make the conclusion that when condition satisifed, we prefer to use Agresti-Coull Method to calculate the confidence interval."
   ]
  }
 ],
 "metadata": {
  "kernelspec": {
   "display_name": "Python 3",
   "language": "python",
   "name": "python3"
  },
  "language_info": {
   "codemirror_mode": {
    "name": "ipython",
    "version": 3
   },
   "file_extension": ".py",
   "mimetype": "text/x-python",
   "name": "python",
   "nbconvert_exporter": "python",
   "pygments_lexer": "ipython3",
   "version": "3.7.3"
  }
 },
 "nbformat": 4,
 "nbformat_minor": 2
}
